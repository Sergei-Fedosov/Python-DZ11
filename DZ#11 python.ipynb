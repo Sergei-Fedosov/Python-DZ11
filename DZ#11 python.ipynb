{
 "cells": [
  {
   "cell_type": "markdown",
   "id": "92e24b4e",
   "metadata": {},
   "source": [
    "f(x)=0.6x^3+5.5x^2+10x-5\n",
    "\n",
    "Определить корни\n",
    "\n",
    "Найти интервалы, на которых функция возрастает\n",
    "\n",
    "Найти интервалы, на которых функция убывает\n",
    "\n",
    "Построить график\n",
    "\n",
    "Вычислить вершину\n",
    "\n",
    "Определить промежутки, на котором f > 0\n",
    "\n",
    "Определить промежутки, на котором f < 0"
   ]
  },
  {
   "cell_type": "code",
   "execution_count": 14,
   "id": "ec857dd4",
   "metadata": {
    "scrolled": false
   },
   "outputs": [
    {
     "ename": "TypeError",
     "evalue": "'int' object is not callable",
     "output_type": "error",
     "traceback": [
      "\u001b[1;31m---------------------------------------------------------------------------\u001b[0m",
      "\u001b[1;31mTypeError\u001b[0m                                 Traceback (most recent call last)",
      "\u001b[1;32m~\\AppData\\Local\\Temp\\ipykernel_15524\\2294574957.py\u001b[0m in \u001b[0;36m<module>\u001b[1;34m\u001b[0m\n\u001b[0;32m      8\u001b[0m \u001b[0mx\u001b[0m \u001b[1;33m=\u001b[0m \u001b[0mSymbol\u001b[0m\u001b[1;33m(\u001b[0m\u001b[1;34m\"x\"\u001b[0m\u001b[1;33m)\u001b[0m\u001b[1;33m\u001b[0m\u001b[1;33m\u001b[0m\u001b[0m\n\u001b[0;32m      9\u001b[0m \u001b[1;33m\u001b[0m\u001b[0m\n\u001b[1;32m---> 10\u001b[1;33m \u001b[0mf_x\u001b[0m \u001b[1;33m=\u001b[0m \u001b[0mA\u001b[0m \u001b[1;33m*\u001b[0m \u001b[1;33m(\u001b[0m\u001b[0mx\u001b[0m\u001b[1;33m**\u001b[0m\u001b[1;36m3\u001b[0m\u001b[1;33m)\u001b[0m \u001b[1;33m+\u001b[0m \u001b[0mB\u001b[0m \u001b[1;33m*\u001b[0m \u001b[1;33m(\u001b[0m\u001b[0mx\u001b[0m\u001b[1;33m**\u001b[0m\u001b[1;36m2\u001b[0m\u001b[1;33m)\u001b[0m \u001b[1;33m+\u001b[0m \u001b[0mC\u001b[0m \u001b[1;33m(\u001b[0m\u001b[0mx\u001b[0m\u001b[1;33m**\u001b[0m\u001b[1;36m1\u001b[0m\u001b[1;33m)\u001b[0m \u001b[1;33m+\u001b[0m \u001b[0mD\u001b[0m\u001b[1;33m\u001b[0m\u001b[1;33m\u001b[0m\u001b[0m\n\u001b[0m",
      "\u001b[1;31mTypeError\u001b[0m: 'int' object is not callable"
     ]
    }
   ],
   "source": [
    "from sympy import *\n",
    "\n",
    "A = 0.6\n",
    "B = 5.5\n",
    "C = 10\n",
    "D = -5\n",
    "\n",
    "x = Symbol(\"x\")\n",
    "\n",
    "f_x = A * (x**3) + B * (x**2) + C (x**1) + D "
   ]
  },
  {
   "cell_type": "code",
   "execution_count": null,
   "id": "e86b5dbb",
   "metadata": {},
   "outputs": [],
   "source": [
    "f_x"
   ]
  },
  {
   "cell_type": "code",
   "execution_count": null,
   "id": "53c9df61",
   "metadata": {},
   "outputs": [],
   "source": [
    "print(\"корень №1:\", solve(f_x,x)[0].n())\n",
    "print(\"корень №2:\", solve(f_x,x)[1].n())"
   ]
  },
  {
   "cell_type": "code",
   "execution_count": null,
   "id": "cfed772a",
   "metadata": {},
   "outputs": [],
   "source": [
    "from sympy.plotting import plot\n",
    "\n",
    "plot(f_x,(x,-4,3), line_color='red', title='график функции').show()"
   ]
  },
  {
   "cell_type": "code",
   "execution_count": null,
   "id": "08b701e4",
   "metadata": {},
   "outputs": [],
   "source": [
    "derivative = diff(f_x)\n",
    "derivative"
   ]
  },
  {
   "cell_type": "code",
   "execution_count": null,
   "id": "b9457927",
   "metadata": {},
   "outputs": [],
   "source": [
    "g1 = plot(derivative,(x,-4,3), line_color='red', title='график функции')"
   ]
  },
  {
   "cell_type": "code",
   "execution_count": null,
   "id": "35a331a0",
   "metadata": {},
   "outputs": [],
   "source": [
    "g2 = plot(f_x,derivate,(x,-4,3)), title=\"Совмещенный график\", legend= True, xlabel='X', ylabel='Y', show=False)"
   ]
  },
  {
   "cell_type": "code",
   "execution_count": null,
   "id": "28698838",
   "metadata": {},
   "outputs": [],
   "source": [
    "g3 = plot(f_x, derivative,(x,-4,3), title=\"Совмещенный график\", legend= True, xlabel='X', ylabel='Y', show=False)\n",
    "\n",
    "g3[0].line_color = 'red'\n",
    "g3[1].line_color = 'black'\n",
    "\n",
    "g3.show()"
   ]
  },
  {
   "cell_type": "code",
   "execution_count": null,
   "id": "1cb70dea",
   "metadata": {},
   "outputs": [],
   "source": [
    "print(\"корень №1:\", solve(derivative,x)[0].n(3))"
   ]
  },
  {
   "cell_type": "code",
   "execution_count": null,
   "id": "122f3b76",
   "metadata": {},
   "outputs": [],
   "source": [
    "solve(derivative > 0,x)"
   ]
  },
  {
   "cell_type": "code",
   "execution_count": null,
   "id": "7b5b4c0b",
   "metadata": {},
   "outputs": [],
   "source": [
    "solve(derivative < 0,x)"
   ]
  },
  {
   "cell_type": "code",
   "execution_count": null,
   "id": "b518389f",
   "metadata": {},
   "outputs": [],
   "source": [
    "-B/(2*A)"
   ]
  },
  {
   "cell_type": "code",
   "execution_count": null,
   "id": "5e885484",
   "metadata": {},
   "outputs": [],
   "source": [
    "derivative.subs(x,(-B/(2*A)))"
   ]
  },
  {
   "cell_type": "code",
   "execution_count": null,
   "id": "4262fd70",
   "metadata": {},
   "outputs": [],
   "source": [
    "solve(f_x > 0,x)"
   ]
  },
  {
   "cell_type": "code",
   "execution_count": null,
   "id": "ce70613e",
   "metadata": {},
   "outputs": [],
   "source": [
    "solve(f_x < 0,x)"
   ]
  },
  {
   "cell_type": "code",
   "execution_count": null,
   "id": "f107c59c",
   "metadata": {},
   "outputs": [],
   "source": [
    "f_x.subs(x,(-B/(2*A)))"
   ]
  }
 ],
 "metadata": {
  "kernelspec": {
   "display_name": "Python 3 (ipykernel)",
   "language": "python",
   "name": "python3"
  },
  "language_info": {
   "codemirror_mode": {
    "name": "ipython",
    "version": 3
   },
   "file_extension": ".py",
   "mimetype": "text/x-python",
   "name": "python",
   "nbconvert_exporter": "python",
   "pygments_lexer": "ipython3",
   "version": "3.9.13"
  }
 },
 "nbformat": 4,
 "nbformat_minor": 5
}
